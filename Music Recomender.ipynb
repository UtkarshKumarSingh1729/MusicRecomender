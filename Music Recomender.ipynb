{
 "cells": [
  {
   "cell_type": "code",
   "execution_count": 103,
   "id": "53c4484f",
   "metadata": {},
   "outputs": [
    {
     "data": {
      "text/plain": [
       "array(['HipHop'], dtype=object)"
      ]
     },
     "execution_count": 103,
     "metadata": {},
     "output_type": "execute_result"
    }
   ],
   "source": [
    "import pandas as pd\n",
    "from sklearn.tree import DecisionTreeClassifier\n",
    "from sklearn.model_selection import train_test_split\n",
    "from sklearn.metrics import accuracy_score\n",
    "import joblib\n",
    "\n",
    "# df=pd.read_csv('music.csv')\n",
    "# x=df.drop(columns=['genre'])\n",
    "# y=df['genre']\n",
    "# X_train,X_test,Y_train,Y_test=train_test_split(x,y,test_size=0.2)\n",
    "# model= DecisionTreeClassifier()\n",
    "# model.fit(X_train,Y_train)\n",
    "model=joblib.load('music-recomender.joblib')\n",
    "#prediction=model.predict(X_test)\n",
    "#prediction\n",
    "#score= accuracy_score(Y_test, prediction)\n",
    "#score\n",
    "predictions=model.predict([[21,1]])\n",
    "predictions"
   ]
  },
  {
   "cell_type": "code",
   "execution_count": 109,
   "id": "914dfbad",
   "metadata": {},
   "outputs": [],
   "source": [
    "from sklearn import tree\n",
    "music_data=pd.read_csv('music.csv')\n",
    "X=music_data.drop(columns=['genre'])\n",
    "Y=music_data['genre']\n",
    "model.fit(X,Y)\n",
    "tree.export_graphviz(model, out_file='music.recomender.dot', feature_names=['age','gender'],class_names=sorted(y.unique()),\n",
    "                    label='all',\n",
    "                    rounded=True,\n",
    "                    filled=True)"
   ]
  },
  {
   "cell_type": "code",
   "execution_count": null,
   "id": "60c79c6b",
   "metadata": {},
   "outputs": [],
   "source": []
  }
 ],
 "metadata": {
  "kernelspec": {
   "display_name": "Python 3",
   "language": "python",
   "name": "python3"
  },
  "language_info": {
   "codemirror_mode": {
    "name": "ipython",
    "version": 3
   },
   "file_extension": ".py",
   "mimetype": "text/x-python",
   "name": "python",
   "nbconvert_exporter": "python",
   "pygments_lexer": "ipython3",
   "version": "3.8.8"
  }
 },
 "nbformat": 4,
 "nbformat_minor": 5
}
